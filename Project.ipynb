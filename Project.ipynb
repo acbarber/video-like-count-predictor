{
 "cells": [
  {
   "cell_type": "code",
   "execution_count": 1,
   "metadata": {},
   "outputs": [
    {
     "name": "stderr",
     "output_type": "stream",
     "text": [
      "c:\\users\\acbar\\anaconda3\\envs\\si618\\lib\\site-packages\\gensim\\utils.py:1197: UserWarning: detected Windows; aliasing chunkize to chunkize_serial\n",
      "  warnings.warn(\"detected Windows; aliasing chunkize to chunkize_serial\")\n"
     ]
    }
   ],
   "source": [
    "import pandas as pd\n",
    "import numpy as np\n",
    "\n",
    "from nltk import word_tokenize\n",
    "from nltk.corpus import stopwords\n",
    "set(stopwords.words('english'))\n",
    "\n",
    "\n",
    "from sklearn.metrics import mean_squared_error\n",
    "from math import sqrt\n",
    "\n",
    "import matplotlib.pyplot as plt\n",
    "%matplotlib inline\n",
    "import seaborn as sns\n",
    "\n",
    "from gensim.models import Word2Vec\n",
    "import gensim\n",
    "\n",
    "from sklearn.feature_extraction.text import TfidfVectorizer, CountVectorizer, TfidfTransformer\n",
    "from sklearn.pipeline import Pipeline\n",
    "from sklearn.model_selection import train_test_split\n",
    "\n",
    "import torch\n",
    "import torch.nn as nn\n",
    "import torch.nn.functional as F\n",
    "import torch.optim as optim\n",
    "\n",
    "import os"
   ]
  },
  {
   "cell_type": "markdown",
   "metadata": {},
   "source": [
    "# Data Preparation"
   ]
  },
  {
   "cell_type": "code",
   "execution_count": 2,
   "metadata": {},
   "outputs": [],
   "source": [
    "data = pd.read_csv('All_data.csv')"
   ]
  },
  {
   "cell_type": "code",
   "execution_count": 3,
   "metadata": {},
   "outputs": [
    {
     "data": {
      "text/html": [
       "<div>\n",
       "<style scoped>\n",
       "    .dataframe tbody tr th:only-of-type {\n",
       "        vertical-align: middle;\n",
       "    }\n",
       "\n",
       "    .dataframe tbody tr th {\n",
       "        vertical-align: top;\n",
       "    }\n",
       "\n",
       "    .dataframe thead th {\n",
       "        text-align: right;\n",
       "    }\n",
       "</style>\n",
       "<table border=\"1\" class=\"dataframe\">\n",
       "  <thead>\n",
       "    <tr style=\"text-align: right;\">\n",
       "      <th></th>\n",
       "      <th>Unnamed: 0</th>\n",
       "      <th>rowHash</th>\n",
       "      <th>Id</th>\n",
       "      <th>Title</th>\n",
       "      <th>Description</th>\n",
       "      <th>LikeCount</th>\n",
       "      <th>DislikeCount</th>\n",
       "      <th>ViewCount</th>\n",
       "      <th>FavoriteCount</th>\n",
       "      <th>CommentCount</th>\n",
       "      <th>...</th>\n",
       "      <th>channelViewCount</th>\n",
       "      <th>nextHash</th>\n",
       "      <th>PrevCommentCount</th>\n",
       "      <th>PrevDislikeCount</th>\n",
       "      <th>PrevLikeCount</th>\n",
       "      <th>PrevPublishedAt</th>\n",
       "      <th>PrevViewCount</th>\n",
       "      <th>PrevTitle</th>\n",
       "      <th>PublishedYear</th>\n",
       "      <th>ChannelAge</th>\n",
       "    </tr>\n",
       "  </thead>\n",
       "  <tbody>\n",
       "    <tr>\n",
       "      <th>0</th>\n",
       "      <td>0</td>\n",
       "      <td>0</td>\n",
       "      <td>Scp3JH3eVLw</td>\n",
       "      <td>Depeche Mode   It's No Good</td>\n",
       "      <td>DANCA MUITO.</td>\n",
       "      <td>0</td>\n",
       "      <td>0</td>\n",
       "      <td>18</td>\n",
       "      <td>0</td>\n",
       "      <td>0</td>\n",
       "      <td>...</td>\n",
       "      <td>8251061</td>\n",
       "      <td>1.0</td>\n",
       "      <td>0</td>\n",
       "      <td>2</td>\n",
       "      <td>14</td>\n",
       "      <td>2012-03-28T18:01:31.000Z</td>\n",
       "      <td>3911</td>\n",
       "      <td>the best of Jay cutler Dorian Yates</td>\n",
       "      <td>2017</td>\n",
       "      <td>2008</td>\n",
       "    </tr>\n",
       "    <tr>\n",
       "      <th>1</th>\n",
       "      <td>1</td>\n",
       "      <td>1</td>\n",
       "      <td>wLqmkz6u8G4</td>\n",
       "      <td>the best of Jay cutler Dorian Yates</td>\n",
       "      <td>Jay cutler e Dorian Yates</td>\n",
       "      <td>14</td>\n",
       "      <td>2</td>\n",
       "      <td>3911</td>\n",
       "      <td>0</td>\n",
       "      <td>0</td>\n",
       "      <td>...</td>\n",
       "      <td>8251061</td>\n",
       "      <td>2.0</td>\n",
       "      <td>5</td>\n",
       "      <td>2</td>\n",
       "      <td>8</td>\n",
       "      <td>2010-08-23T16:12:50.000Z</td>\n",
       "      <td>3853</td>\n",
       "      <td>Iron Man Andy photos   NO PAIN NO GAIN</td>\n",
       "      <td>2012</td>\n",
       "      <td>2008</td>\n",
       "    </tr>\n",
       "    <tr>\n",
       "      <th>2</th>\n",
       "      <td>2</td>\n",
       "      <td>2</td>\n",
       "      <td>nKMsh79uOcM</td>\n",
       "      <td>Iron Man Andy photos   NO PAIN NO GAIN</td>\n",
       "      <td>Iron Man Andy muscle NO PAIN NO GAIN</td>\n",
       "      <td>8</td>\n",
       "      <td>2</td>\n",
       "      <td>3853</td>\n",
       "      <td>0</td>\n",
       "      <td>5</td>\n",
       "      <td>...</td>\n",
       "      <td>8251061</td>\n",
       "      <td>3.0</td>\n",
       "      <td>0</td>\n",
       "      <td>2</td>\n",
       "      <td>3</td>\n",
       "      <td>2010-05-17T10:15:48.000Z</td>\n",
       "      <td>1392</td>\n",
       "      <td>the mission SEVERINA</td>\n",
       "      <td>2010</td>\n",
       "      <td>2008</td>\n",
       "    </tr>\n",
       "    <tr>\n",
       "      <th>3</th>\n",
       "      <td>3</td>\n",
       "      <td>4</td>\n",
       "      <td>E--7XtuuqAg</td>\n",
       "      <td>Mooring Anchor Carry 120kg at Papar Strongestm...</td>\n",
       "      <td>Only manage 11 meters</td>\n",
       "      <td>0</td>\n",
       "      <td>0</td>\n",
       "      <td>56</td>\n",
       "      <td>0</td>\n",
       "      <td>0</td>\n",
       "      <td>...</td>\n",
       "      <td>123988</td>\n",
       "      <td>5.0</td>\n",
       "      <td>0</td>\n",
       "      <td>0</td>\n",
       "      <td>0</td>\n",
       "      <td>2016-10-10T15:01:02.000Z</td>\n",
       "      <td>74</td>\n",
       "      <td>Tire Flip 450kg at Papar Strongestman 2016</td>\n",
       "      <td>2016</td>\n",
       "      <td>2011</td>\n",
       "    </tr>\n",
       "    <tr>\n",
       "      <th>4</th>\n",
       "      <td>4</td>\n",
       "      <td>5</td>\n",
       "      <td>fdsppIOelPw</td>\n",
       "      <td>Tire Flip 450kg at Papar Strongestman 2016</td>\n",
       "      <td>450kg x 5 flips</td>\n",
       "      <td>0</td>\n",
       "      <td>0</td>\n",
       "      <td>74</td>\n",
       "      <td>0</td>\n",
       "      <td>0</td>\n",
       "      <td>...</td>\n",
       "      <td>123988</td>\n",
       "      <td>6.0</td>\n",
       "      <td>0</td>\n",
       "      <td>0</td>\n",
       "      <td>0</td>\n",
       "      <td>2016-10-10T14:59:15.000Z</td>\n",
       "      <td>46</td>\n",
       "      <td>Farmer Walk 125kg each hand at Papar Strongest...</td>\n",
       "      <td>2016</td>\n",
       "      <td>2011</td>\n",
       "    </tr>\n",
       "  </tbody>\n",
       "</table>\n",
       "<p>5 rows × 27 columns</p>\n",
       "</div>"
      ],
      "text/plain": [
       "   Unnamed: 0  rowHash           Id  \\\n",
       "0           0        0  Scp3JH3eVLw   \n",
       "1           1        1  wLqmkz6u8G4   \n",
       "2           2        2  nKMsh79uOcM   \n",
       "3           3        4  E--7XtuuqAg   \n",
       "4           4        5  fdsppIOelPw   \n",
       "\n",
       "                                               Title  \\\n",
       "0                        Depeche Mode   It's No Good   \n",
       "1                the best of Jay cutler Dorian Yates   \n",
       "2             Iron Man Andy photos   NO PAIN NO GAIN   \n",
       "3  Mooring Anchor Carry 120kg at Papar Strongestm...   \n",
       "4         Tire Flip 450kg at Papar Strongestman 2016   \n",
       "\n",
       "                            Description  LikeCount  DislikeCount  ViewCount  \\\n",
       "0                          DANCA MUITO.          0             0         18   \n",
       "1             Jay cutler e Dorian Yates         14             2       3911   \n",
       "2  Iron Man Andy muscle NO PAIN NO GAIN          8             2       3853   \n",
       "3                 Only manage 11 meters          0             0         56   \n",
       "4                       450kg x 5 flips          0             0         74   \n",
       "\n",
       "   FavoriteCount  CommentCount  ... channelViewCount nextHash  \\\n",
       "0              0             0  ...          8251061      1.0   \n",
       "1              0             0  ...          8251061      2.0   \n",
       "2              0             5  ...          8251061      3.0   \n",
       "3              0             0  ...           123988      5.0   \n",
       "4              0             0  ...           123988      6.0   \n",
       "\n",
       "  PrevCommentCount PrevDislikeCount PrevLikeCount           PrevPublishedAt  \\\n",
       "0                0                2            14  2012-03-28T18:01:31.000Z   \n",
       "1                5                2             8  2010-08-23T16:12:50.000Z   \n",
       "2                0                2             3  2010-05-17T10:15:48.000Z   \n",
       "3                0                0             0  2016-10-10T15:01:02.000Z   \n",
       "4                0                0             0  2016-10-10T14:59:15.000Z   \n",
       "\n",
       "   PrevViewCount                                          PrevTitle  \\\n",
       "0           3911                the best of Jay cutler Dorian Yates   \n",
       "1           3853             Iron Man Andy photos   NO PAIN NO GAIN   \n",
       "2           1392                               the mission SEVERINA   \n",
       "3             74         Tire Flip 450kg at Papar Strongestman 2016   \n",
       "4             46  Farmer Walk 125kg each hand at Papar Strongest...   \n",
       "\n",
       "   PublishedYear  ChannelAge  \n",
       "0           2017        2008  \n",
       "1           2012        2008  \n",
       "2           2010        2008  \n",
       "3           2016        2011  \n",
       "4           2016        2011  \n",
       "\n",
       "[5 rows x 27 columns]"
      ]
     },
     "execution_count": 3,
     "metadata": {},
     "output_type": "execute_result"
    }
   ],
   "source": [
    "data.head()"
   ]
  },
  {
   "cell_type": "code",
   "execution_count": 4,
   "metadata": {},
   "outputs": [
    {
     "data": {
      "text/html": [
       "<div>\n",
       "<style scoped>\n",
       "    .dataframe tbody tr th:only-of-type {\n",
       "        vertical-align: middle;\n",
       "    }\n",
       "\n",
       "    .dataframe tbody tr th {\n",
       "        vertical-align: top;\n",
       "    }\n",
       "\n",
       "    .dataframe thead th {\n",
       "        text-align: right;\n",
       "    }\n",
       "</style>\n",
       "<table border=\"1\" class=\"dataframe\">\n",
       "  <thead>\n",
       "    <tr style=\"text-align: right;\">\n",
       "      <th></th>\n",
       "      <th>Unnamed: 0</th>\n",
       "      <th>rowHash</th>\n",
       "      <th>LikeCount</th>\n",
       "      <th>DislikeCount</th>\n",
       "      <th>ViewCount</th>\n",
       "      <th>FavoriteCount</th>\n",
       "      <th>CommentCount</th>\n",
       "      <th>subscriberCount</th>\n",
       "      <th>channelVideoCount</th>\n",
       "      <th>channelViewCount</th>\n",
       "      <th>nextHash</th>\n",
       "      <th>PrevCommentCount</th>\n",
       "      <th>PrevDislikeCount</th>\n",
       "      <th>PrevLikeCount</th>\n",
       "      <th>PrevViewCount</th>\n",
       "      <th>PublishedYear</th>\n",
       "      <th>ChannelAge</th>\n",
       "    </tr>\n",
       "    <tr>\n",
       "      <th>Channel Id</th>\n",
       "      <th></th>\n",
       "      <th></th>\n",
       "      <th></th>\n",
       "      <th></th>\n",
       "      <th></th>\n",
       "      <th></th>\n",
       "      <th></th>\n",
       "      <th></th>\n",
       "      <th></th>\n",
       "      <th></th>\n",
       "      <th></th>\n",
       "      <th></th>\n",
       "      <th></th>\n",
       "      <th></th>\n",
       "      <th></th>\n",
       "      <th></th>\n",
       "      <th></th>\n",
       "    </tr>\n",
       "  </thead>\n",
       "  <tbody>\n",
       "    <tr>\n",
       "      <th>UC--w7fuSe0EKFKSnXS95Pyw</th>\n",
       "      <td>37279.5</td>\n",
       "      <td>43211.375000</td>\n",
       "      <td>6.916667</td>\n",
       "      <td>0.166667</td>\n",
       "      <td>877.083333</td>\n",
       "      <td>0.0</td>\n",
       "      <td>3.541667</td>\n",
       "      <td>385.0</td>\n",
       "      <td>74.0</td>\n",
       "      <td>69069.0</td>\n",
       "      <td>43212.375000</td>\n",
       "      <td>3.416667</td>\n",
       "      <td>0.166667</td>\n",
       "      <td>6.916667</td>\n",
       "      <td>886.125000</td>\n",
       "      <td>2011.833333</td>\n",
       "      <td>2008.0</td>\n",
       "    </tr>\n",
       "    <tr>\n",
       "      <th>UC-0CzRZeML8zw4pFTVDq65Q</th>\n",
       "      <td>62487.5</td>\n",
       "      <td>26163.388889</td>\n",
       "      <td>310.083333</td>\n",
       "      <td>5.972222</td>\n",
       "      <td>11012.472222</td>\n",
       "      <td>0.0</td>\n",
       "      <td>105.250000</td>\n",
       "      <td>231461.0</td>\n",
       "      <td>230.0</td>\n",
       "      <td>16319737.0</td>\n",
       "      <td>26164.388889</td>\n",
       "      <td>114.388889</td>\n",
       "      <td>5.888889</td>\n",
       "      <td>318.222222</td>\n",
       "      <td>11154.555556</td>\n",
       "      <td>2017.000000</td>\n",
       "      <td>2010.0</td>\n",
       "    </tr>\n",
       "    <tr>\n",
       "      <th>UC-23k9cNwahyW3UkncsWeXg</th>\n",
       "      <td>162.0</td>\n",
       "      <td>137306.000000</td>\n",
       "      <td>14.000000</td>\n",
       "      <td>0.000000</td>\n",
       "      <td>2805.000000</td>\n",
       "      <td>0.0</td>\n",
       "      <td>1.000000</td>\n",
       "      <td>18.0</td>\n",
       "      <td>1.0</td>\n",
       "      <td>2805.0</td>\n",
       "      <td>NaN</td>\n",
       "      <td>0.000000</td>\n",
       "      <td>0.000000</td>\n",
       "      <td>0.000000</td>\n",
       "      <td>0.000000</td>\n",
       "      <td>2013.000000</td>\n",
       "      <td>2012.0</td>\n",
       "    </tr>\n",
       "    <tr>\n",
       "      <th>UC-3FeOXwZjbyzTO1T6S1IEw</th>\n",
       "      <td>78446.0</td>\n",
       "      <td>55034.000000</td>\n",
       "      <td>13.529412</td>\n",
       "      <td>0.823529</td>\n",
       "      <td>6994.647059</td>\n",
       "      <td>0.0</td>\n",
       "      <td>0.764706</td>\n",
       "      <td>390.0</td>\n",
       "      <td>32.0</td>\n",
       "      <td>185641.0</td>\n",
       "      <td>55035.000000</td>\n",
       "      <td>1.000000</td>\n",
       "      <td>0.823529</td>\n",
       "      <td>13.764706</td>\n",
       "      <td>7218.294118</td>\n",
       "      <td>2009.588235</td>\n",
       "      <td>2008.0</td>\n",
       "    </tr>\n",
       "    <tr>\n",
       "      <th>UC-3o78pP-D_GrY312riQL4w</th>\n",
       "      <td>78013.0</td>\n",
       "      <td>87394.000000</td>\n",
       "      <td>3.909091</td>\n",
       "      <td>0.090909</td>\n",
       "      <td>677.545455</td>\n",
       "      <td>0.0</td>\n",
       "      <td>1.363636</td>\n",
       "      <td>74.0</td>\n",
       "      <td>15.0</td>\n",
       "      <td>11736.0</td>\n",
       "      <td>87395.000000</td>\n",
       "      <td>1.454545</td>\n",
       "      <td>0.090909</td>\n",
       "      <td>3.454545</td>\n",
       "      <td>781.363636</td>\n",
       "      <td>2011.272727</td>\n",
       "      <td>2010.0</td>\n",
       "    </tr>\n",
       "  </tbody>\n",
       "</table>\n",
       "</div>"
      ],
      "text/plain": [
       "                          Unnamed: 0        rowHash   LikeCount  DislikeCount  \\\n",
       "Channel Id                                                                      \n",
       "UC--w7fuSe0EKFKSnXS95Pyw     37279.5   43211.375000    6.916667      0.166667   \n",
       "UC-0CzRZeML8zw4pFTVDq65Q     62487.5   26163.388889  310.083333      5.972222   \n",
       "UC-23k9cNwahyW3UkncsWeXg       162.0  137306.000000   14.000000      0.000000   \n",
       "UC-3FeOXwZjbyzTO1T6S1IEw     78446.0   55034.000000   13.529412      0.823529   \n",
       "UC-3o78pP-D_GrY312riQL4w     78013.0   87394.000000    3.909091      0.090909   \n",
       "\n",
       "                             ViewCount  FavoriteCount  CommentCount  \\\n",
       "Channel Id                                                            \n",
       "UC--w7fuSe0EKFKSnXS95Pyw    877.083333            0.0      3.541667   \n",
       "UC-0CzRZeML8zw4pFTVDq65Q  11012.472222            0.0    105.250000   \n",
       "UC-23k9cNwahyW3UkncsWeXg   2805.000000            0.0      1.000000   \n",
       "UC-3FeOXwZjbyzTO1T6S1IEw   6994.647059            0.0      0.764706   \n",
       "UC-3o78pP-D_GrY312riQL4w    677.545455            0.0      1.363636   \n",
       "\n",
       "                          subscriberCount  channelVideoCount  \\\n",
       "Channel Id                                                     \n",
       "UC--w7fuSe0EKFKSnXS95Pyw            385.0               74.0   \n",
       "UC-0CzRZeML8zw4pFTVDq65Q         231461.0              230.0   \n",
       "UC-23k9cNwahyW3UkncsWeXg             18.0                1.0   \n",
       "UC-3FeOXwZjbyzTO1T6S1IEw            390.0               32.0   \n",
       "UC-3o78pP-D_GrY312riQL4w             74.0               15.0   \n",
       "\n",
       "                          channelViewCount      nextHash  PrevCommentCount  \\\n",
       "Channel Id                                                                   \n",
       "UC--w7fuSe0EKFKSnXS95Pyw           69069.0  43212.375000          3.416667   \n",
       "UC-0CzRZeML8zw4pFTVDq65Q        16319737.0  26164.388889        114.388889   \n",
       "UC-23k9cNwahyW3UkncsWeXg            2805.0           NaN          0.000000   \n",
       "UC-3FeOXwZjbyzTO1T6S1IEw          185641.0  55035.000000          1.000000   \n",
       "UC-3o78pP-D_GrY312riQL4w           11736.0  87395.000000          1.454545   \n",
       "\n",
       "                          PrevDislikeCount  PrevLikeCount  PrevViewCount  \\\n",
       "Channel Id                                                                 \n",
       "UC--w7fuSe0EKFKSnXS95Pyw          0.166667       6.916667     886.125000   \n",
       "UC-0CzRZeML8zw4pFTVDq65Q          5.888889     318.222222   11154.555556   \n",
       "UC-23k9cNwahyW3UkncsWeXg          0.000000       0.000000       0.000000   \n",
       "UC-3FeOXwZjbyzTO1T6S1IEw          0.823529      13.764706    7218.294118   \n",
       "UC-3o78pP-D_GrY312riQL4w          0.090909       3.454545     781.363636   \n",
       "\n",
       "                          PublishedYear  ChannelAge  \n",
       "Channel Id                                           \n",
       "UC--w7fuSe0EKFKSnXS95Pyw    2011.833333      2008.0  \n",
       "UC-0CzRZeML8zw4pFTVDq65Q    2017.000000      2010.0  \n",
       "UC-23k9cNwahyW3UkncsWeXg    2013.000000      2012.0  \n",
       "UC-3FeOXwZjbyzTO1T6S1IEw    2009.588235      2008.0  \n",
       "UC-3o78pP-D_GrY312riQL4w    2011.272727      2010.0  "
      ]
     },
     "execution_count": 4,
     "metadata": {},
     "output_type": "execute_result"
    }
   ],
   "source": [
    "g=data.groupby('Channel Id').mean()\n",
    "g.head()"
   ]
  },
  {
   "cell_type": "code",
   "execution_count": 5,
   "metadata": {},
   "outputs": [
    {
     "data": {
      "text/plain": [
       "0                            DANCA MUITO.\n",
       "1               Jay cutler e Dorian Yates\n",
       "2    Iron Man Andy muscle NO PAIN NO GAIN\n",
       "3                   Only manage 11 meters\n",
       "4                         450kg x 5 flips\n",
       "Name: Description, dtype: object"
      ]
     },
     "execution_count": 5,
     "metadata": {},
     "output_type": "execute_result"
    }
   ],
   "source": [
    "data.Description.head()"
   ]
  },
  {
   "cell_type": "code",
   "execution_count": 6,
   "metadata": {},
   "outputs": [],
   "source": [
    "data['description_tokenized'] = data.Description.apply(lambda x: word_tokenize(x))"
   ]
  },
  {
   "cell_type": "code",
   "execution_count": 7,
   "metadata": {},
   "outputs": [],
   "source": [
    "stop_words = set(stopwords.words('english')) \n",
    "\n",
    "\n",
    "data['description_tokenized'] = data.description_tokenized.apply(lambda x: [i.lower() for i in x if not i in stop_words] )"
   ]
  },
  {
   "cell_type": "code",
   "execution_count": 8,
   "metadata": {},
   "outputs": [],
   "source": [
    "data['title_tokenized'] = data.Title.apply(lambda x: word_tokenize(x))\n",
    "data['title_tokenized'] = data.title_tokenized.apply(lambda x: [i.lower() for i in x if not i in stop_words])"
   ]
  },
  {
   "cell_type": "code",
   "execution_count": 9,
   "metadata": {},
   "outputs": [
    {
     "data": {
      "text/plain": [
       "0                    [depeche, mode, it, 's, no, good]\n",
       "1                   [best, jay, cutler, dorian, yates]\n",
       "2        [iron, man, andy, photos, no, pain, no, gain]\n",
       "3    [mooring, anchor, carry, 120kg, papar, stronge...\n",
       "4       [tire, flip, 450kg, papar, strongestman, 2016]\n",
       "Name: title_tokenized, dtype: object"
      ]
     },
     "execution_count": 9,
     "metadata": {},
     "output_type": "execute_result"
    }
   ],
   "source": [
    "data.title_tokenized.head()"
   ]
  },
  {
   "cell_type": "code",
   "execution_count": 10,
   "metadata": {},
   "outputs": [
    {
     "data": {
      "text/plain": [
       "0                                [danca, muito, .]\n",
       "1                  [jay, cutler, e, dorian, yates]\n",
       "2    [iron, man, andy, muscle, no, pain, no, gain]\n",
       "3                       [only, manage, 11, meters]\n",
       "4                             [450kg, x, 5, flips]\n",
       "Name: description_tokenized, dtype: object"
      ]
     },
     "execution_count": 10,
     "metadata": {},
     "output_type": "execute_result"
    }
   ],
   "source": [
    "data.description_tokenized.head()"
   ]
  },
  {
   "cell_type": "code",
   "execution_count": 11,
   "metadata": {},
   "outputs": [],
   "source": [
    "data['description_tok_short'] = data.description_tokenized.apply(lambda x: x[:99] if len(x)>100 else x)"
   ]
  },
  {
   "cell_type": "code",
   "execution_count": 12,
   "metadata": {},
   "outputs": [],
   "source": [
    "data['final_input'] = data.description_tok_short + data.title_tokenized"
   ]
  },
  {
   "cell_type": "code",
   "execution_count": 13,
   "metadata": {},
   "outputs": [
    {
     "data": {
      "text/plain": [
       "0    [danca, muito, ., depeche, mode, it, 's, no, g...\n",
       "1    [jay, cutler, e, dorian, yates, best, jay, cut...\n",
       "2    [iron, man, andy, muscle, no, pain, no, gain, ...\n",
       "3    [only, manage, 11, meters, mooring, anchor, ca...\n",
       "4    [450kg, x, 5, flips, tire, flip, 450kg, papar,...\n",
       "Name: final_input, dtype: object"
      ]
     },
     "execution_count": 13,
     "metadata": {},
     "output_type": "execute_result"
    }
   ],
   "source": [
    "data.final_input.head()"
   ]
  },
  {
   "cell_type": "code",
   "execution_count": 14,
   "metadata": {},
   "outputs": [],
   "source": [
    "model_wv = Word2Vec(data.description_tokenized, min_count=1, size=25)"
   ]
  },
  {
   "cell_type": "code",
   "execution_count": 15,
   "metadata": {},
   "outputs": [],
   "source": [
    "model_wv_title = Word2Vec(data.final_input, min_count=1, size=25)"
   ]
  },
  {
   "cell_type": "code",
   "execution_count": 16,
   "metadata": {},
   "outputs": [
    {
     "name": "stderr",
     "output_type": "stream",
     "text": [
      "c:\\users\\acbar\\anaconda3\\envs\\si618\\lib\\site-packages\\ipykernel_launcher.py:1: DeprecationWarning: Call to deprecated `__getitem__` (Method will be removed in 4.0.0, use self.wv.__getitem__() instead).\n",
      "  \"\"\"Entry point for launching an IPython kernel.\n"
     ]
    },
    {
     "data": {
      "text/plain": [
       "array([-1.02108838e-02, -1.37152188e-02, -2.32663006e-02, -8.39891005e-03,\n",
       "       -2.26806495e-02, -1.99693199e-02,  7.71122053e-03, -1.98925957e-02,\n",
       "        1.61926430e-02,  1.54729770e-03,  4.05245535e-02, -3.64596862e-03,\n",
       "        2.19598748e-02,  1.59324054e-02,  3.40198576e-02,  9.11119394e-03,\n",
       "        3.15484069e-02, -1.46661540e-02, -2.81412248e-03, -1.81660708e-02,\n",
       "        2.45833746e-03,  1.36891054e-02,  3.71446870e-02, -5.14636971e-02,\n",
       "        2.61807553e-02, -1.54954776e-01,  1.76529571e-01, -3.61527830e-01,\n",
       "        6.78441525e-02, -4.15270925e-01, -2.90213525e-01,  1.48167968e-01,\n",
       "       -3.48596185e-01,  4.24469948e-01, -5.69826029e-02,  4.11323637e-01,\n",
       "        2.95393402e-03, -1.62958950e-01,  2.16035098e-01,  3.30571532e-01,\n",
       "        1.68979108e-01,  1.27407402e-01, -2.35244021e-01,  1.07766993e-01,\n",
       "       -1.40869752e-01,  1.02702096e-01,  4.37351763e-02,  5.32204270e-01,\n",
       "       -2.99132615e-01,  1.29945755e-01, -2.25508237e+00, -2.73343062e+00,\n",
       "       -1.94561377e-01,  3.44222248e-01, -5.68714857e-01,  2.04702973e+00,\n",
       "        4.08780783e-01, -1.83438659e+00,  5.41289330e-01, -5.46307147e-01,\n",
       "        1.47300029e+00, -1.64569521e+00, -2.34793052e-01, -8.06912065e-01,\n",
       "        8.87926757e-01, -3.40132189e+00,  2.44287419e+00,  2.27218723e+00,\n",
       "        2.80505586e+00, -7.34394073e-01, -8.13201964e-01, -3.68653131e+00,\n",
       "       -2.72800112e+00, -2.71323109e+00, -2.95728564e+00], dtype=float32)"
      ]
     },
     "execution_count": 16,
     "metadata": {},
     "output_type": "execute_result"
    }
   ],
   "source": [
    "np.concatenate(model_wv[data.description_tokenized[0]])"
   ]
  },
  {
   "cell_type": "code",
   "execution_count": 17,
   "metadata": {},
   "outputs": [
    {
     "name": "stdout",
     "output_type": "stream",
     "text": [
      "92458\n",
      "92396\n"
     ]
    }
   ],
   "source": [
    "data['target'] = data.ViewCount.apply(lambda x: np.log(x))\n",
    "print(len(data))\n",
    "data = data[data.target>=0]\n",
    "print(len(data))"
   ]
  },
  {
   "cell_type": "code",
   "execution_count": 19,
   "metadata": {},
   "outputs": [
    {
     "data": {
      "image/png": "[encoded data removed]",
      "text/plain": [
       "<Figure size 432x288 with 1 Axes>"
      ]
     },
     "metadata": {
      "needs_background": "light"
     },
     "output_type": "display_data"
    }
   ],
   "source": [
    "from pylab import savefig\n",
    "sns.distplot(data.target)\n",
    "plt.title('Log Distribution of View Counts')\n",
    "plt.xlabel('Log(View Count)')\n",
    "plt.ylabel('Proportion of Videos')\n",
    "plt.savefig('view_distribtion.png', dpi=800)\n",
    "plt.show()"
   ]
  },
  {
   "cell_type": "code",
   "execution_count": 22,
   "metadata": {},
   "outputs": [],
   "source": [
    "train, test = train_test_split(data,test_size=0.2)"
   ]
  },
  {
   "cell_type": "markdown",
   "metadata": {},
   "source": [
    "# Linear Regression - Description"
   ]
  },
  {
   "cell_type": "code",
   "execution_count": 29,
   "metadata": {},
   "outputs": [],
   "source": [
    "from sklearn.linear_model import LinearRegression\n",
    "\n",
    "\n",
    "text_clf = Pipeline([('vect', CountVectorizer(max_df= 0.75, max_features= None, ngram_range= (1, 2))),\n",
    "                      ('tfidf', TfidfTransformer(norm= 'l2', use_idf= False)),\n",
    "                      ('clf', LinearRegression())])\n",
    "                    \n",
    "text_clf.fit(train['Description'],train['target'])\n",
    "\n",
    "y_pred = text_clf.predict(test['Description'])\n"
   ]
  },
  {
   "cell_type": "code",
   "execution_count": 30,
   "metadata": {},
   "outputs": [
    {
     "name": "stderr",
     "output_type": "stream",
     "text": [
      "c:\\users\\acbar\\anaconda3\\envs\\si618\\lib\\site-packages\\ipykernel_launcher.py:1: SettingWithCopyWarning: \n",
      "A value is trying to be set on a copy of a slice from a DataFrame.\n",
      "Try using .loc[row_indexer,col_indexer] = value instead\n",
      "\n",
      "See the caveats in the documentation: http://pandas.pydata.org/pandas-docs/stable/indexing.html#indexing-view-versus-copy\n",
      "  \"\"\"Entry point for launching an IPython kernel.\n"
     ]
    }
   ],
   "source": [
    "test['baseline_lregression'] = y_pred\n",
    "test[['Description', 'target', 'baseline_lregression']].to_csv('baseline_results.csv', index=False)"
   ]
  },
  {
   "cell_type": "code",
   "execution_count": 32,
   "metadata": {},
   "outputs": [
    {
     "data": {
      "text/plain": [
       "1.9357857015724864"
      ]
     },
     "execution_count": 32,
     "metadata": {},
     "output_type": "execute_result"
    }
   ],
   "source": [
    "rmse = sqrt(mean_squared_error(test.target, y_pred))\n",
    "rmse"
   ]
  },
  {
   "cell_type": "markdown",
   "metadata": {},
   "source": [
    "# Linear Regression - Description + Title"
   ]
  },
  {
   "cell_type": "code",
   "execution_count": 370,
   "metadata": {},
   "outputs": [
    {
     "name": "stderr",
     "output_type": "stream",
     "text": [
      "c:\\users\\acbar\\anaconda3\\envs\\si618\\lib\\site-packages\\ipykernel_launcher.py:1: SettingWithCopyWarning: \n",
      "A value is trying to be set on a copy of a slice from a DataFrame.\n",
      "Try using .loc[row_indexer,col_indexer] = value instead\n",
      "\n",
      "See the caveats in the documentation: http://pandas.pydata.org/pandas-docs/stable/indexing.html#indexing-view-versus-copy\n",
      "  \"\"\"Entry point for launching an IPython kernel.\n",
      "c:\\users\\acbar\\anaconda3\\envs\\si618\\lib\\site-packages\\ipykernel_launcher.py:2: SettingWithCopyWarning: \n",
      "A value is trying to be set on a copy of a slice from a DataFrame.\n",
      "Try using .loc[row_indexer,col_indexer] = value instead\n",
      "\n",
      "See the caveats in the documentation: http://pandas.pydata.org/pandas-docs/stable/indexing.html#indexing-view-versus-copy\n",
      "  \n"
     ]
    }
   ],
   "source": [
    "train['description_title'] = train['Description'] +' '+ train['Title']\n",
    "test['description_title'] = test['Description'] + ' ' + test['Title']"
   ]
  },
  {
   "cell_type": "code",
   "execution_count": 369,
   "metadata": {},
   "outputs": [],
   "source": [
    "# train.description_title"
   ]
  },
  {
   "cell_type": "code",
   "execution_count": 371,
   "metadata": {},
   "outputs": [],
   "source": [
    "text_clf = Pipeline([('vect', CountVectorizer(max_df= 0.75, max_features= None, ngram_range= (1, 2))),\n",
    "                      ('tfidf', TfidfTransformer(norm= 'l2', use_idf= False)),\n",
    "                      ('clf', LinearRegression())])\n",
    "                    \n",
    "text_clf.fit(train['description_title'],train['target'])\n",
    "\n",
    "y_pred = text_clf.predict(test['description_title'])"
   ]
  },
  {
   "cell_type": "code",
   "execution_count": 372,
   "metadata": {},
   "outputs": [
    {
     "data": {
      "text/plain": [
       "1.864988625532717"
      ]
     },
     "execution_count": 372,
     "metadata": {},
     "output_type": "execute_result"
    }
   ],
   "source": [
    "rmse = sqrt(mean_squared_error(test.target, y_pred))\n",
    "rmse"
   ]
  },
  {
   "cell_type": "markdown",
   "metadata": {},
   "source": [
    "# LSTM - Description"
   ]
  },
  {
   "cell_type": "code",
   "execution_count": 232,
   "metadata": {},
   "outputs": [
    {
     "name": "stderr",
     "output_type": "stream",
     "text": [
      "c:\\users\\acbar\\anaconda3\\envs\\si618\\lib\\site-packages\\ipykernel_launcher.py:5: DeprecationWarning: Call to deprecated `__getitem__` (Method will be removed in 4.0.0, use self.wv.__getitem__() instead).\n",
      "  \"\"\"\n"
     ]
    }
   ],
   "source": [
    "train_X = []\n",
    "train_Y = []\n",
    "for x,y in zip(train['description_tok_short'],train['target']):\n",
    "    try:\n",
    "        o = np.concatenate((np.concatenate(model_wv[x[:25]]), ([0]*25*(25-len(x))))).astype('float32')\n",
    "        train_X.append(o)\n",
    "        train_Y.append(y)\n",
    "    except ValueError:\n",
    "        pass\n",
    "#         o = np.zeros(625).astype('float32')\n",
    "#         test_X.append(o)"
   ]
  },
  {
   "cell_type": "code",
   "execution_count": 234,
   "metadata": {},
   "outputs": [
    {
     "name": "stderr",
     "output_type": "stream",
     "text": [
      "c:\\users\\acbar\\anaconda3\\envs\\si618\\lib\\site-packages\\ipykernel_launcher.py:5: DeprecationWarning: Call to deprecated `__getitem__` (Method will be removed in 4.0.0, use self.wv.__getitem__() instead).\n",
      "  \"\"\"\n"
     ]
    }
   ],
   "source": [
    "test_X = []\n",
    "test_Y = []\n",
    "for x,y in zip(test['description_tok_short'],test['target']):\n",
    "    try:\n",
    "        o = np.concatenate((np.concatenate(model_wv[x[:25]]), ([0]*25*(25-len(x))))).astype('float32')\n",
    "        test_X.append(o)\n",
    "        test_Y.append(y)\n",
    "    except ValueError:\n",
    "        pass\n",
    "#         o = np.zeros(625).astype('float32')\n",
    "#         test_X.append(o)"
   ]
  },
  {
   "cell_type": "code",
   "execution_count": 245,
   "metadata": {},
   "outputs": [],
   "source": [
    "class LSTM(nn.Module):\n",
    "\n",
    "    def __init__(self, input_dim, hidden_dim, batch_size, output_dim=1, num_layers=2):\n",
    "        super(LSTM, self).__init__()\n",
    "        self.input_dim = input_dim\n",
    "        self.hidden_dim = hidden_dim\n",
    "        self.num_layers = num_layers\n",
    "        self.output_dim = output_dim\n",
    "        self.batch_size = batch_size\n",
    "\n",
    "        self.lstm = nn.LSTM(self.input_dim, self.hidden_dim, self.num_layers, batch_first=False, dropout=0.5)\n",
    "\n",
    "        self.linear = nn.Linear(self.hidden_dim, 1)\n",
    "  \n",
    "\n",
    "    def init_hidden(self):\n",
    "        return (torch.zeros(self.num_layers, self.batch_size, self.hidden_dim),\n",
    "                torch.zeros(self.num_layers, self.batch_size, self.hidden_dim))\n",
    "\n",
    "    def forward(self, x):\n",
    "\n",
    "         \n",
    "        lstm_out, self.hidden = self.lstm(x.view(len(x), self.batch_size, -1))     \n",
    "        \n",
    "        \n",
    "        y_pred = self.linear(lstm_out[-1].view(self.batch_size, -1))        \n",
    "        return y_pred.view(-1)\n",
    "\n",
    "model = LSTM(625, 100, len(train_X))"
   ]
  },
  {
   "cell_type": "code",
   "execution_count": 246,
   "metadata": {},
   "outputs": [
    {
     "data": {
      "text/plain": [
       "LSTM(\n",
       "  (lstm): LSTM(625, 100, num_layers=2, dropout=0.5)\n",
       "  (linear): Linear(in_features=100, out_features=1, bias=True)\n",
       ")"
      ]
     },
     "execution_count": 246,
     "metadata": {},
     "output_type": "execute_result"
    }
   ],
   "source": [
    "device = torch.device(\"cuda\") if torch.cuda.is_available() else torch.device(\"cpu\")\n",
    "model.to(device)"
   ]
  },
  {
   "cell_type": "code",
   "execution_count": 272,
   "metadata": {},
   "outputs": [
    {
     "name": "stdout",
     "output_type": "stream",
     "text": [
      "Epoch  0 MSE:  226998.765625\n",
      "Saving current state of model to C:\\Users\\acbar\\Desktop\\Winter19\\SI630\\Project\\lstm3-epoch-0.mdl\n"
     ]
    },
    {
     "name": "stderr",
     "output_type": "stream",
     "text": [
      "c:\\users\\acbar\\anaconda3\\envs\\si618\\lib\\site-packages\\torch\\serialization.py:251: UserWarning: Couldn't retrieve source code for container of type LSTM. It won't be checked for correctness upon loading.\n",
      "  \"type \" + obj.__name__ + \". It won't be checked \"\n"
     ]
    },
    {
     "name": "stdout",
     "output_type": "stream",
     "text": [
      "Epoch  5 MSE:  233918.625\n",
      "Saving current state of model to C:\\Users\\acbar\\Desktop\\Winter19\\SI630\\Project\\lstm3-epoch-5.mdl\n",
      "Epoch  10 MSE:  211946.296875\n",
      "Saving current state of model to C:\\Users\\acbar\\Desktop\\Winter19\\SI630\\Project\\lstm3-epoch-10.mdl\n",
      "Epoch  15 MSE:  201327.046875\n",
      "Saving current state of model to C:\\Users\\acbar\\Desktop\\Winter19\\SI630\\Project\\lstm3-epoch-15.mdl\n",
      "Epoch  20 MSE:  188811.71875\n",
      "Saving current state of model to C:\\Users\\acbar\\Desktop\\Winter19\\SI630\\Project\\lstm3-epoch-20.mdl\n",
      "Epoch  25 MSE:  176902.203125\n",
      "Saving current state of model to C:\\Users\\acbar\\Desktop\\Winter19\\SI630\\Project\\lstm3-epoch-25.mdl\n",
      "Epoch  30 MSE:  163982.921875\n",
      "Saving current state of model to C:\\Users\\acbar\\Desktop\\Winter19\\SI630\\Project\\lstm3-epoch-30.mdl\n",
      "Epoch  35 MSE:  150796.671875\n",
      "Saving current state of model to C:\\Users\\acbar\\Desktop\\Winter19\\SI630\\Project\\lstm3-epoch-35.mdl\n",
      "Epoch  40 MSE:  140684.453125\n",
      "Saving current state of model to C:\\Users\\acbar\\Desktop\\Winter19\\SI630\\Project\\lstm3-epoch-40.mdl\n",
      "Epoch  45 MSE:  126320.078125\n",
      "Saving current state of model to C:\\Users\\acbar\\Desktop\\Winter19\\SI630\\Project\\lstm3-epoch-45.mdl\n",
      "Epoch  50 MSE:  114589.140625\n",
      "Saving current state of model to C:\\Users\\acbar\\Desktop\\Winter19\\SI630\\Project\\lstm3-epoch-50.mdl\n",
      "Epoch  55 MSE:  107088.515625\n",
      "Saving current state of model to C:\\Users\\acbar\\Desktop\\Winter19\\SI630\\Project\\lstm3-epoch-55.mdl\n",
      "Epoch  60 MSE:  99028.0\n",
      "Saving current state of model to C:\\Users\\acbar\\Desktop\\Winter19\\SI630\\Project\\lstm3-epoch-60.mdl\n",
      "Epoch  65 MSE:  91055.984375\n",
      "Saving current state of model to C:\\Users\\acbar\\Desktop\\Winter19\\SI630\\Project\\lstm3-epoch-65.mdl\n",
      "Epoch  70 MSE:  83264.9140625\n",
      "Saving current state of model to C:\\Users\\acbar\\Desktop\\Winter19\\SI630\\Project\\lstm3-epoch-70.mdl\n",
      "Epoch  75 MSE:  76956.7890625\n",
      "Saving current state of model to C:\\Users\\acbar\\Desktop\\Winter19\\SI630\\Project\\lstm3-epoch-75.mdl\n",
      "Epoch  80 MSE:  73421.0390625\n",
      "Saving current state of model to C:\\Users\\acbar\\Desktop\\Winter19\\SI630\\Project\\lstm3-epoch-80.mdl\n",
      "Epoch  85 MSE:  73746.296875\n",
      "Saving current state of model to C:\\Users\\acbar\\Desktop\\Winter19\\SI630\\Project\\lstm3-epoch-85.mdl\n",
      "Epoch  90 MSE:  68831.046875\n",
      "Saving current state of model to C:\\Users\\acbar\\Desktop\\Winter19\\SI630\\Project\\lstm3-epoch-90.mdl\n",
      "Epoch  95 MSE:  60408.08984375\n",
      "Saving current state of model to C:\\Users\\acbar\\Desktop\\Winter19\\SI630\\Project\\lstm3-epoch-95.mdl\n",
      "Epoch  100 MSE:  54946.9765625\n",
      "Saving current state of model to C:\\Users\\acbar\\Desktop\\Winter19\\SI630\\Project\\lstm3-epoch-100.mdl\n",
      "Epoch  105 MSE:  58860.609375\n",
      "Saving current state of model to C:\\Users\\acbar\\Desktop\\Winter19\\SI630\\Project\\lstm3-epoch-105.mdl\n",
      "Epoch  110 MSE:  55798.9140625\n",
      "Saving current state of model to C:\\Users\\acbar\\Desktop\\Winter19\\SI630\\Project\\lstm3-epoch-110.mdl\n",
      "Epoch  115 MSE:  47737.48046875\n",
      "Saving current state of model to C:\\Users\\acbar\\Desktop\\Winter19\\SI630\\Project\\lstm3-epoch-115.mdl\n",
      "Epoch  120 MSE:  47011.7734375\n",
      "Saving current state of model to C:\\Users\\acbar\\Desktop\\Winter19\\SI630\\Project\\lstm3-epoch-120.mdl\n",
      "Epoch  125 MSE:  51094.953125\n",
      "Saving current state of model to C:\\Users\\acbar\\Desktop\\Winter19\\SI630\\Project\\lstm3-epoch-125.mdl\n"
     ]
    },
    {
     "ename": "KeyboardInterrupt",
     "evalue": "",
     "output_type": "error",
     "traceback": [
      "\u001b[1;31m---------------------------------------------------------------------------\u001b[0m",
      "\u001b[1;31mKeyboardInterrupt\u001b[0m                         Traceback (most recent call last)",
      "\u001b[1;32m<ipython-input-272-19f213a01108>\u001b[0m in \u001b[0;36m<module>\u001b[1;34m\u001b[0m\n\u001b[0;32m     19\u001b[0m     \u001b[0mmodel\u001b[0m\u001b[1;33m.\u001b[0m\u001b[0mhidden\u001b[0m \u001b[1;33m=\u001b[0m \u001b[0mmodel\u001b[0m\u001b[1;33m.\u001b[0m\u001b[0minit_hidden\u001b[0m\u001b[1;33m(\u001b[0m\u001b[1;33m)\u001b[0m\u001b[1;33m\u001b[0m\u001b[1;33m\u001b[0m\u001b[0m\n\u001b[0;32m     20\u001b[0m \u001b[1;33m\u001b[0m\u001b[0m\n\u001b[1;32m---> 21\u001b[1;33m     \u001b[0mX_train\u001b[0m \u001b[1;33m=\u001b[0m \u001b[0mtorch\u001b[0m\u001b[1;33m.\u001b[0m\u001b[0mtensor\u001b[0m\u001b[1;33m(\u001b[0m\u001b[0mtrain_X\u001b[0m\u001b[1;33m)\u001b[0m\u001b[1;33m.\u001b[0m\u001b[0mview\u001b[0m\u001b[1;33m(\u001b[0m\u001b[1;36m1\u001b[0m\u001b[1;33m,\u001b[0m\u001b[0mlen\u001b[0m\u001b[1;33m(\u001b[0m\u001b[0mtrain_X\u001b[0m\u001b[1;33m)\u001b[0m\u001b[1;33m,\u001b[0m\u001b[1;36m625\u001b[0m\u001b[1;33m)\u001b[0m\u001b[1;33m.\u001b[0m\u001b[0mto\u001b[0m\u001b[1;33m(\u001b[0m\u001b[0mdevice\u001b[0m\u001b[1;33m)\u001b[0m\u001b[1;33m\u001b[0m\u001b[1;33m\u001b[0m\u001b[0m\n\u001b[0m\u001b[0;32m     22\u001b[0m     \u001b[0mY_train\u001b[0m \u001b[1;33m=\u001b[0m \u001b[0mtorch\u001b[0m\u001b[1;33m.\u001b[0m\u001b[0mtensor\u001b[0m\u001b[1;33m(\u001b[0m\u001b[0mtrain_Y\u001b[0m\u001b[1;33m)\u001b[0m\u001b[1;33m.\u001b[0m\u001b[0mto\u001b[0m\u001b[1;33m(\u001b[0m\u001b[0mdevice\u001b[0m\u001b[1;33m)\u001b[0m\u001b[1;33m\u001b[0m\u001b[1;33m\u001b[0m\u001b[0m\n\u001b[0;32m     23\u001b[0m \u001b[1;33m\u001b[0m\u001b[0m\n",
      "\u001b[1;31mKeyboardInterrupt\u001b[0m: "
     ]
    }
   ],
   "source": [
    "loss_fn = torch.nn.MSELoss(size_average=False)\n",
    "\n",
    "optimizer = torch.optim.Adam(model.parameters(), lr=.01)\n",
    "\n",
    "num_epochs = 200\n",
    "\n",
    "# Train model\n",
    "\n",
    "hist = np.zeros(num_epochs)\n",
    "\n",
    "for t in range(num_epochs):\n",
    "    \n",
    "        \n",
    "    # Clear stored gradient\n",
    "    model.zero_grad()\n",
    "\n",
    "    # Initialise hidden state\n",
    "    # Don't do this if you want your LSTM to be stateful\n",
    "    model.hidden = model.init_hidden()\n",
    "\n",
    "    X_train = torch.tensor(train_X).view(1,len(train_X),625).to(device)\n",
    "    Y_train = torch.tensor(train_Y).to(device)\n",
    "\n",
    "    # Forward pass\n",
    "    y_pred = model.forward(X_train)\n",
    "\n",
    "    loss = loss_fn(y_pred, Y_train)\n",
    "    if t % 5 == 0:\n",
    "        print(\"Epoch \", t, \"MSE: \", loss.item())\n",
    "    hist[t] = loss.item()\n",
    "\n",
    "\n",
    "\n",
    "    # Zero out gradient, else they will accumulate between epochs\n",
    "    optimizer.zero_grad()\n",
    "\n",
    "    # Backward pass\n",
    "    loss.backward()\n",
    "\n",
    "    # Update parameters\n",
    "    optimizer.step()\n",
    "        \n",
    "    if t % 5 ==0:\n",
    "        # save model\n",
    "        save_dir = 'C:\\\\Users\\\\acbar\\\\Desktop\\\\Winter19\\\\SI630\\\\Project\\\\'\n",
    "        save_file = os.path.join(save_dir, '%s-epoch-%d.mdl' % ('lstm1', t))\n",
    "        print('Saving current state of model to %s' % save_file)\n",
    "        torch.save(model, save_file)\n",
    "    \n",
    "#     print(hist)"
   ]
  },
  {
   "cell_type": "code",
   "execution_count": 248,
   "metadata": {},
   "outputs": [],
   "source": [
    "r=len(train_X)-len(test_X)\n",
    "for i in range(r):\n",
    "    test_X.append([0]*625)"
   ]
  },
  {
   "cell_type": "code",
   "execution_count": 249,
   "metadata": {},
   "outputs": [],
   "source": [
    "for i in range(r):\n",
    "    test_Y.append(0)"
   ]
  },
  {
   "cell_type": "code",
   "execution_count": 250,
   "metadata": {},
   "outputs": [
    {
     "data": {
      "text/plain": [
       "True"
      ]
     },
     "execution_count": 250,
     "metadata": {},
     "output_type": "execute_result"
    }
   ],
   "source": [
    "len(test_X)==len(train_X)"
   ]
  },
  {
   "cell_type": "code",
   "execution_count": 251,
   "metadata": {},
   "outputs": [],
   "source": [
    "X_test = torch.tensor(test_X).view(1,len(test_X),625).to(device)\n",
    "Y_test = torch.tensor(test_Y).to(device)"
   ]
  },
  {
   "cell_type": "code",
   "execution_count": 304,
   "metadata": {},
   "outputs": [],
   "source": [
    "model = torch.load('lstm1-epoch-125.mdl')\n",
    "model.eval()\n",
    "\n",
    "\n",
    "# X_test = torch.tensor(test_X).view(len(train_X),1,625).to(device)\n",
    "# Y_test = torch.tensor(train_Y).to(device)\n",
    "\n",
    "output = model(X_test)"
   ]
  },
  {
   "cell_type": "code",
   "execution_count": 305,
   "metadata": {},
   "outputs": [],
   "source": [
    "output=output.detach().numpy()"
   ]
  },
  {
   "cell_type": "code",
   "execution_count": 379,
   "metadata": {},
   "outputs": [
    {
     "data": {
      "text/plain": [
       "2.0294824901235833"
      ]
     },
     "execution_count": 379,
     "metadata": {},
     "output_type": "execute_result"
    }
   ],
   "source": [
    "rmse_test = sqrt(mean_squared_error(output[:len(test)], test_Y[:len(test)]))\n",
    "rmse_test"
   ]
  },
  {
   "cell_type": "markdown",
   "metadata": {},
   "source": [
    "# LSTM - Description + Title"
   ]
  },
  {
   "cell_type": "code",
   "execution_count": 313,
   "metadata": {},
   "outputs": [
    {
     "name": "stderr",
     "output_type": "stream",
     "text": [
      "c:\\users\\acbar\\anaconda3\\envs\\si618\\lib\\site-packages\\ipykernel_launcher.py:5: DeprecationWarning: Call to deprecated `__getitem__` (Method will be removed in 4.0.0, use self.wv.__getitem__() instead).\n",
      "  \"\"\"\n"
     ]
    }
   ],
   "source": [
    "train_X = []\n",
    "train_Y = []\n",
    "for x,y in zip(train['final_input'],train['target']):\n",
    "    try:\n",
    "        o = np.concatenate((np.concatenate(model_wv[x[:25]]), ([0]*25*(25-len(x)))) ).astype('float32')\n",
    "        train_X.append(o)\n",
    "        train_Y.append(y)\n",
    "    except KeyError:\n",
    "        pass"
   ]
  },
  {
   "cell_type": "code",
   "execution_count": 314,
   "metadata": {},
   "outputs": [],
   "source": [
    "d=test['description_tok_short']\n"
   ]
  },
  {
   "cell_type": "code",
   "execution_count": 315,
   "metadata": {},
   "outputs": [
    {
     "name": "stderr",
     "output_type": "stream",
     "text": [
      "c:\\users\\acbar\\anaconda3\\envs\\si618\\lib\\site-packages\\ipykernel_launcher.py:5: DeprecationWarning: Call to deprecated `__getitem__` (Method will be removed in 4.0.0, use self.wv.__getitem__() instead).\n",
      "  \"\"\"\n"
     ]
    }
   ],
   "source": [
    "test_X = []\n",
    "test_Y = []\n",
    "for x,y in zip(test['final_input'],test['target']):\n",
    "    try:\n",
    "        o = np.concatenate((np.concatenate(model_wv[x[:25]]), ([0]*25*(25-len(x)))) ).astype('float32')\n",
    "        test_X.append(o)\n",
    "        test_Y.append(y)\n",
    "    except KeyError:\n",
    "        pass"
   ]
  },
  {
   "cell_type": "code",
   "execution_count": 316,
   "metadata": {},
   "outputs": [],
   "source": [
    "class LSTM(nn.Module):\n",
    "\n",
    "    def __init__(self, input_dim, hidden_dim, batch_size, output_dim=1, num_layers=2):\n",
    "        super(LSTM, self).__init__()\n",
    "        self.input_dim = input_dim\n",
    "        self.hidden_dim = hidden_dim\n",
    "        self.num_layers = num_layers\n",
    "        self.output_dim = output_dim\n",
    "        self.batch_size = batch_size\n",
    "\n",
    "        # Define the LSTM layer\n",
    "        self.lstm = nn.LSTM(self.input_dim, self.hidden_dim, self.num_layers, batch_first=False, dropout=0.5)\n",
    "\n",
    "        # Define the output layer\n",
    "        self.linear = nn.Linear(self.hidden_dim, 1)\n",
    "  \n",
    "\n",
    "    def init_hidden(self):\n",
    "#         This is what we'll initialise our hidden state as\n",
    "        return (torch.zeros(self.num_layers, self.batch_size, self.hidden_dim),\n",
    "                torch.zeros(self.num_layers, self.batch_size, self.hidden_dim))\n",
    "\n",
    "    def forward(self, x):\n",
    "        # Forward pass through LSTM layer\n",
    "        # shape of lstm_out: [input_size, batch_size, hidden_dim]\n",
    "        # shape of self.hidden: (a, b), where a and b both \n",
    "        # have shape (num_layers, batch_size, hidden_dim).\n",
    "         \n",
    "        lstm_out, self.hidden = self.lstm(x.view(len(x), self.batch_size, -1))     \n",
    "        \n",
    "        # Only take the output from the final timetep\n",
    "        # Can pass on the entirety of lstm_out to the next layer if it is a seq2seq prediction\n",
    "        \n",
    "        y_pred = self.linear(lstm_out[-1].view(self.batch_size, -1))        \n",
    "        return y_pred.view(-1)\n",
    "\n",
    "model = LSTM(625, 100, len(train_X))"
   ]
  },
  {
   "cell_type": "code",
   "execution_count": 317,
   "metadata": {},
   "outputs": [
    {
     "data": {
      "text/plain": [
       "LSTM(\n",
       "  (lstm): LSTM(625, 100, num_layers=2, dropout=0.5)\n",
       "  (linear): Linear(in_features=100, out_features=1, bias=True)\n",
       ")"
      ]
     },
     "execution_count": 317,
     "metadata": {},
     "output_type": "execute_result"
    }
   ],
   "source": [
    "device = torch.device(\"cuda\") if torch.cuda.is_available() else torch.device(\"cpu\")\n",
    "model.to(device)"
   ]
  },
  {
   "cell_type": "code",
   "execution_count": 318,
   "metadata": {},
   "outputs": [
    {
     "name": "stderr",
     "output_type": "stream",
     "text": [
      "c:\\users\\acbar\\anaconda3\\envs\\si618\\lib\\site-packages\\torch\\nn\\_reduction.py:49: UserWarning: size_average and reduce args will be deprecated, please use reduction='sum' instead.\n",
      "  warnings.warn(warning.format(ret))\n"
     ]
    },
    {
     "name": "stdout",
     "output_type": "stream",
     "text": [
      "Epoch  0 MSE:  3907463.25\n",
      "Saving current state of model to C:\\Users\\acbar\\Desktop\\Winter19\\SI630\\Project\\lstm2-epoch-0.mdl\n"
     ]
    },
    {
     "name": "stderr",
     "output_type": "stream",
     "text": [
      "c:\\users\\acbar\\anaconda3\\envs\\si618\\lib\\site-packages\\torch\\serialization.py:251: UserWarning: Couldn't retrieve source code for container of type LSTM. It won't be checked for correctness upon loading.\n",
      "  \"type \" + obj.__name__ + \". It won't be checked \"\n"
     ]
    },
    {
     "name": "stdout",
     "output_type": "stream",
     "text": [
      "Epoch  5 MSE:  1269389.75\n",
      "Saving current state of model to C:\\Users\\acbar\\Desktop\\Winter19\\SI630\\Project\\lstm2-epoch-5.mdl\n",
      "Epoch  10 MSE:  432168.3125\n",
      "Saving current state of model to C:\\Users\\acbar\\Desktop\\Winter19\\SI630\\Project\\lstm2-epoch-10.mdl\n",
      "Epoch  15 MSE:  567473.5\n",
      "Saving current state of model to C:\\Users\\acbar\\Desktop\\Winter19\\SI630\\Project\\lstm2-epoch-15.mdl\n",
      "Epoch  20 MSE:  350075.59375\n",
      "Saving current state of model to C:\\Users\\acbar\\Desktop\\Winter19\\SI630\\Project\\lstm2-epoch-20.mdl\n",
      "Epoch  25 MSE:  401820.5\n",
      "Saving current state of model to C:\\Users\\acbar\\Desktop\\Winter19\\SI630\\Project\\lstm2-epoch-25.mdl\n",
      "Epoch  30 MSE:  377819.375\n",
      "Saving current state of model to C:\\Users\\acbar\\Desktop\\Winter19\\SI630\\Project\\lstm2-epoch-30.mdl\n",
      "Epoch  35 MSE:  348567.5625\n",
      "Saving current state of model to C:\\Users\\acbar\\Desktop\\Winter19\\SI630\\Project\\lstm2-epoch-35.mdl\n",
      "Epoch  40 MSE:  363622.125\n",
      "Saving current state of model to C:\\Users\\acbar\\Desktop\\Winter19\\SI630\\Project\\lstm2-epoch-40.mdl\n",
      "Epoch  45 MSE:  348528.4375\n",
      "Saving current state of model to C:\\Users\\acbar\\Desktop\\Winter19\\SI630\\Project\\lstm2-epoch-45.mdl\n",
      "Epoch  50 MSE:  350326.4375\n",
      "Saving current state of model to C:\\Users\\acbar\\Desktop\\Winter19\\SI630\\Project\\lstm2-epoch-50.mdl\n",
      "Epoch  55 MSE:  348753.3125\n",
      "Saving current state of model to C:\\Users\\acbar\\Desktop\\Winter19\\SI630\\Project\\lstm2-epoch-55.mdl\n",
      "Epoch  60 MSE:  346537.6875\n",
      "Saving current state of model to C:\\Users\\acbar\\Desktop\\Winter19\\SI630\\Project\\lstm2-epoch-60.mdl\n",
      "Epoch  65 MSE:  347344.875\n",
      "Saving current state of model to C:\\Users\\acbar\\Desktop\\Winter19\\SI630\\Project\\lstm2-epoch-65.mdl\n",
      "Epoch  70 MSE:  345538.25\n",
      "Saving current state of model to C:\\Users\\acbar\\Desktop\\Winter19\\SI630\\Project\\lstm2-epoch-70.mdl\n",
      "Epoch  75 MSE:  345374.625\n",
      "Saving current state of model to C:\\Users\\acbar\\Desktop\\Winter19\\SI630\\Project\\lstm2-epoch-75.mdl\n",
      "Epoch  80 MSE:  344079.625\n",
      "Saving current state of model to C:\\Users\\acbar\\Desktop\\Winter19\\SI630\\Project\\lstm2-epoch-80.mdl\n",
      "Epoch  85 MSE:  343147.03125\n",
      "Saving current state of model to C:\\Users\\acbar\\Desktop\\Winter19\\SI630\\Project\\lstm2-epoch-85.mdl\n",
      "Epoch  90 MSE:  341024.8125\n",
      "Saving current state of model to C:\\Users\\acbar\\Desktop\\Winter19\\SI630\\Project\\lstm2-epoch-90.mdl\n",
      "Epoch  95 MSE:  338889.90625\n",
      "Saving current state of model to C:\\Users\\acbar\\Desktop\\Winter19\\SI630\\Project\\lstm2-epoch-95.mdl\n",
      "Epoch  100 MSE:  335845.03125\n",
      "Saving current state of model to C:\\Users\\acbar\\Desktop\\Winter19\\SI630\\Project\\lstm2-epoch-100.mdl\n",
      "Epoch  105 MSE:  332284.375\n",
      "Saving current state of model to C:\\Users\\acbar\\Desktop\\Winter19\\SI630\\Project\\lstm2-epoch-105.mdl\n",
      "Epoch  110 MSE:  327592.6875\n",
      "Saving current state of model to C:\\Users\\acbar\\Desktop\\Winter19\\SI630\\Project\\lstm2-epoch-110.mdl\n",
      "Epoch  115 MSE:  322871.9375\n",
      "Saving current state of model to C:\\Users\\acbar\\Desktop\\Winter19\\SI630\\Project\\lstm2-epoch-115.mdl\n",
      "Epoch  120 MSE:  317608.6875\n",
      "Saving current state of model to C:\\Users\\acbar\\Desktop\\Winter19\\SI630\\Project\\lstm2-epoch-120.mdl\n",
      "Epoch  125 MSE:  312153.53125\n",
      "Saving current state of model to C:\\Users\\acbar\\Desktop\\Winter19\\SI630\\Project\\lstm2-epoch-125.mdl\n",
      "Epoch  130 MSE:  306517.21875\n",
      "Saving current state of model to C:\\Users\\acbar\\Desktop\\Winter19\\SI630\\Project\\lstm2-epoch-130.mdl\n",
      "Epoch  135 MSE:  301921.5\n",
      "Saving current state of model to C:\\Users\\acbar\\Desktop\\Winter19\\SI630\\Project\\lstm2-epoch-135.mdl\n",
      "Epoch  140 MSE:  297479.25\n",
      "Saving current state of model to C:\\Users\\acbar\\Desktop\\Winter19\\SI630\\Project\\lstm2-epoch-140.mdl\n",
      "Epoch  145 MSE:  293510.84375\n",
      "Saving current state of model to C:\\Users\\acbar\\Desktop\\Winter19\\SI630\\Project\\lstm2-epoch-145.mdl\n",
      "Epoch  150 MSE:  290619.3125\n",
      "Saving current state of model to C:\\Users\\acbar\\Desktop\\Winter19\\SI630\\Project\\lstm2-epoch-150.mdl\n",
      "Epoch  155 MSE:  288119.75\n",
      "Saving current state of model to C:\\Users\\acbar\\Desktop\\Winter19\\SI630\\Project\\lstm2-epoch-155.mdl\n",
      "Epoch  160 MSE:  284243.3125\n",
      "Saving current state of model to C:\\Users\\acbar\\Desktop\\Winter19\\SI630\\Project\\lstm2-epoch-160.mdl\n",
      "Epoch  165 MSE:  281173.6875\n",
      "Saving current state of model to C:\\Users\\acbar\\Desktop\\Winter19\\SI630\\Project\\lstm2-epoch-165.mdl\n",
      "Epoch  170 MSE:  279211.9375\n",
      "Saving current state of model to C:\\Users\\acbar\\Desktop\\Winter19\\SI630\\Project\\lstm2-epoch-170.mdl\n",
      "Epoch  175 MSE:  274788.15625\n",
      "Saving current state of model to C:\\Users\\acbar\\Desktop\\Winter19\\SI630\\Project\\lstm2-epoch-175.mdl\n",
      "Epoch  180 MSE:  273072.5\n",
      "Saving current state of model to C:\\Users\\acbar\\Desktop\\Winter19\\SI630\\Project\\lstm2-epoch-180.mdl\n",
      "Epoch  185 MSE:  269562.03125\n",
      "Saving current state of model to C:\\Users\\acbar\\Desktop\\Winter19\\SI630\\Project\\lstm2-epoch-185.mdl\n",
      "Epoch  190 MSE:  266265.0625\n",
      "Saving current state of model to C:\\Users\\acbar\\Desktop\\Winter19\\SI630\\Project\\lstm2-epoch-190.mdl\n",
      "Epoch  195 MSE:  263323.875\n",
      "Saving current state of model to C:\\Users\\acbar\\Desktop\\Winter19\\SI630\\Project\\lstm2-epoch-195.mdl\n"
     ]
    }
   ],
   "source": [
    "loss_fn = torch.nn.MSELoss(size_average=False)\n",
    "\n",
    "optimizer = torch.optim.Adam(model.parameters(), lr=.01)\n",
    "\n",
    "num_epochs = 200\n",
    "\n",
    "# Train model\n",
    "\n",
    "hist = np.zeros(num_epochs)\n",
    "\n",
    "for t in range(num_epochs):\n",
    "    \n",
    "        \n",
    "    # Clear stored gradient\n",
    "    model.zero_grad()\n",
    "\n",
    "    # Initialise hidden state\n",
    "    # Don't do this if you want your LSTM to be stateful\n",
    "    model.hidden = model.init_hidden()\n",
    "\n",
    "    X_train = torch.tensor(train_X).view(1,len(train_X),625).to(device)\n",
    "    Y_train = torch.tensor(train_Y).to(device)\n",
    "\n",
    "    # Forward pass\n",
    "    y_pred = model.forward(X_train)\n",
    "\n",
    "    loss = loss_fn(y_pred, Y_train)\n",
    "    if t % 5 == 0:\n",
    "        print(\"Epoch \", t, \"MSE: \", loss.item())\n",
    "    hist[t] = loss.item()\n",
    "\n",
    "\n",
    "\n",
    "    # Zero out gradient, else they will accumulate between epochs\n",
    "    optimizer.zero_grad()\n",
    "\n",
    "    # Backward pass\n",
    "    loss.backward()\n",
    "\n",
    "    # Update parameters\n",
    "    optimizer.step()\n",
    "        \n",
    "    if t % 5 ==0:\n",
    "        # save model\n",
    "        save_dir = 'C:\\\\Users\\\\acbar\\\\Desktop\\\\Winter19\\\\SI630\\\\Project\\\\'\n",
    "        save_file = os.path.join(save_dir, '%s-epoch-%d.mdl' % ('lstm2', t))\n",
    "        print('Saving current state of model to %s' % save_file)\n",
    "        torch.save(model, save_file)\n",
    "    \n",
    "#     print(hist)"
   ]
  },
  {
   "cell_type": "code",
   "execution_count": 319,
   "metadata": {},
   "outputs": [],
   "source": [
    "r=len(train_X)-len(test_X)\n",
    "for i in range(r):\n",
    "    test_X.append([0]*625)\n"
   ]
  },
  {
   "cell_type": "code",
   "execution_count": 320,
   "metadata": {},
   "outputs": [],
   "source": [
    "for i in range(r):\n",
    "    test_Y.append(0)"
   ]
  },
  {
   "cell_type": "code",
   "execution_count": 321,
   "metadata": {},
   "outputs": [
    {
     "data": {
      "text/plain": [
       "True"
      ]
     },
     "execution_count": 321,
     "metadata": {},
     "output_type": "execute_result"
    }
   ],
   "source": [
    "len(test_X)==len(train_X)"
   ]
  },
  {
   "cell_type": "code",
   "execution_count": 322,
   "metadata": {},
   "outputs": [],
   "source": [
    "X_test = torch.tensor(test_X).view(1,len(test_X),625).to(device)\n",
    "Y_test = torch.tensor(test_Y).to(device)"
   ]
  },
  {
   "cell_type": "code",
   "execution_count": 365,
   "metadata": {},
   "outputs": [],
   "source": [
    "model = torch.load('lstm2-epoch-145.mdl')\n",
    "model.eval()\n",
    "\n",
    "\n",
    "# X_test = torch.tensor(test_X).view(len(train_X),1,625).to(device)\n",
    "# Y_test = torch.tensor(train_Y).to(device)\n",
    "\n",
    "output = model(X_test)\n"
   ]
  },
  {
   "cell_type": "code",
   "execution_count": 366,
   "metadata": {},
   "outputs": [],
   "source": [
    "output=output.detach().numpy()"
   ]
  },
  {
   "cell_type": "code",
   "execution_count": 378,
   "metadata": {},
   "outputs": [
    {
     "data": {
      "text/plain": [
       "1.1323452378943275"
      ]
     },
     "execution_count": 378,
     "metadata": {},
     "output_type": "execute_result"
    }
   ],
   "source": [
    "rmse_test = sqrt(mean_squared_error(output[:len(test)], test_Y[:len(test)]))\n",
    "rmse_test"
   ]
  },
  {
   "cell_type": "code",
   "execution_count": 368,
   "metadata": {},
   "outputs": [],
   "source": [
    "p = []\n",
    "for x,y in zip(output, test_Y):\n",
    "    p.append((x,y))\n"
   ]
  },
  {
   "cell_type": "code",
   "execution_count": null,
   "metadata": {},
   "outputs": [],
   "source": [
    "# sns.scatterplot(output, test_Y)\n",
    "# plt.lineplot(test_Y, test_Y)\n",
    "# plt.title('Predictions versus True Values')\n",
    "# plt.xlabel('Predictions')\n",
    "# plt.ylabel('True Values')\n",
    "# plt.savefig('predictions_true.png', dpi=800)"
   ]
  },
  {
   "cell_type": "markdown",
   "metadata": {},
   "source": [
    "# Baseline - Median View Count by YouTube Channel"
   ]
  },
  {
   "cell_type": "code",
   "execution_count": 27,
   "metadata": {},
   "outputs": [],
   "source": [
    "g=test.groupby('Channel Id').median()\n",
    "base= test['Channel Id'].apply(lambda x: g.target[x])"
   ]
  },
  {
   "cell_type": "code",
   "execution_count": 28,
   "metadata": {},
   "outputs": [
    {
     "data": {
      "text/plain": [
       "1.171649344148862"
      ]
     },
     "execution_count": 28,
     "metadata": {},
     "output_type": "execute_result"
    }
   ],
   "source": [
    "rmse_base = sqrt(mean_squared_error(base, test.target))\n",
    "rmse_base"
   ]
  },
  {
   "cell_type": "code",
   "execution_count": 29,
   "metadata": {},
   "outputs": [
    {
     "name": "stderr",
     "output_type": "stream",
     "text": [
      "c:\\users\\acbar\\anaconda3\\envs\\si618\\lib\\site-packages\\scipy\\stats\\stats.py:1713: FutureWarning: Using a non-tuple sequence for multidimensional indexing is deprecated; use `arr[tuple(seq)]` instead of `arr[seq]`. In the future this will be interpreted as an array index, `arr[np.array(seq)]`, which will result either in an error or a different result.\n",
      "  return np.add.reduce(sorted[indexer] * weights, axis=axis) / sumval\n"
     ]
    },
    {
     "data": {
      "image/png": "[encoded data removed]",
      "text/plain": [
       "<Figure size 432x288 with 1 Axes>"
      ]
     },
     "metadata": {
      "needs_background": "light"
     },
     "output_type": "display_data"
    }
   ],
   "source": [
    "sns.scatterplot(base, test.target)\n",
    "sns.lineplot(test.target, test.target)\n",
    "plt.title('Baseline Predictions versus True Values')\n",
    "plt.xlabel('Predictions')\n",
    "plt.ylabel('True Values')\n",
    "plt.savefig('baseline_graph.png', dpi=800)"
   ]
  }
 ],
 "metadata": {
  "kernelspec": {
   "display_name": "Python 3",
   "language": "python",
   "name": "python3"
  },
  "language_info": {
   "codemirror_mode": {
    "name": "ipython",
    "version": 3
   },
   "file_extension": ".py",
   "mimetype": "text/x-python",
   "name": "python",
   "nbconvert_exporter": "python",
   "pygments_lexer": "ipython3",
   "version": "3.6.5"
  }
 },
 "nbformat": 4,
 "nbformat_minor": 2
}
